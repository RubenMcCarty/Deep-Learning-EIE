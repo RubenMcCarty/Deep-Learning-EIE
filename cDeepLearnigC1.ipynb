{
  "nbformat": 4,
  "nbformat_minor": 0,
  "metadata": {
    "colab": {
      "name": "cDeepLearnigC1.ipynb",
      "provenance": [],
      "private_outputs": true,
      "include_colab_link": true
    },
    "kernelspec": {
      "name": "python3",
      "display_name": "Python 3"
    },
    "accelerator": "GPU"
  },
  "cells": [
    {
      "cell_type": "markdown",
      "metadata": {
        "id": "view-in-github",
        "colab_type": "text"
      },
      "source": [
        "<a href=\"https://colab.research.google.com/github/RubenQuispe/Deep-Learning-EIE/blob/main/cDeepLearnigC1.ipynb\" target=\"_parent\"><img src=\"https://colab.research.google.com/assets/colab-badge.svg\" alt=\"Open In Colab\"/></a>"
      ]
    },
    {
      "cell_type": "markdown",
      "metadata": {
        "id": "bhp0oQp6usRR"
      },
      "source": [
        "# Mg. Rubén Quispe\n",
        "\n"
      ]
    },
    {
      "cell_type": "code",
      "metadata": {
        "id": "NwgLSrdeNYiv"
      },
      "source": [
        "import torch "
      ],
      "execution_count": null,
      "outputs": []
    },
    {
      "cell_type": "code",
      "metadata": {
        "id": "RaBKz62NNhbr"
      },
      "source": [
        "A = torch.rand((5,3,3)) #creamos un tensor aleatorio \n",
        "A\n"
      ],
      "execution_count": null,
      "outputs": []
    },
    {
      "cell_type": "code",
      "metadata": {
        "id": "01oKyqaDOB3-"
      },
      "source": [
        "A.size() #vemos sus diemciones \n",
        "#empieza con la dimencion,alto,ancho"
      ],
      "execution_count": null,
      "outputs": []
    },
    {
      "cell_type": "code",
      "metadata": {
        "id": "NDeTXZi5OXLi"
      },
      "source": [
        "A[0][0] #mostrame lo que haya en la dimencion 0 altura 0"
      ],
      "execution_count": null,
      "outputs": []
    },
    {
      "cell_type": "code",
      "metadata": {
        "id": "5VBO0yGhOwXJ"
      },
      "source": [
        "A[0,:,0] #mostrame de la dimencion 0 todas las alturas y ancho 0"
      ],
      "execution_count": null,
      "outputs": []
    },
    {
      "cell_type": "code",
      "metadata": {
        "id": "GpNHObhZPFm4"
      },
      "source": [
        "C = torch.zeros((5,3,3)) #un tensor de muchos ceros con las dimenciones especificadas\n",
        "C"
      ],
      "execution_count": null,
      "outputs": []
    },
    {
      "cell_type": "code",
      "metadata": {
        "id": "g9EhdkPEPwQB"
      },
      "source": [
        "D = torch.randint(2,(3,3)) #tensore con valores aleatoos de num enteros\n",
        "#(2,(5,10)) = el range sin inculir los extremos superior  0,2\n",
        "##; (5,10)  que tan grande es el tensor\n",
        "D.dtype \n",
        "D"
      ],
      "execution_count": null,
      "outputs": []
    },
    {
      "cell_type": "code",
      "metadata": {
        "id": "d28c_l4mQ8J1"
      },
      "source": [
        "C + D.float()  #sumamos don tensores, y lo convertimos en flotante a una \n",
        "#por que es entero y no se puede "
      ],
      "execution_count": null,
      "outputs": []
    },
    {
      "cell_type": "code",
      "metadata": {
        "id": "KBGPoflfRocW"
      },
      "source": [
        "torch.set_default_tensor_type('torch.FloatTensor')\n",
        "#ponemos por defecto a que genere por def tensores flotantes de 32"
      ],
      "execution_count": null,
      "outputs": []
    },
    {
      "cell_type": "code",
      "metadata": {
        "id": "6nqfDuYwSCFC"
      },
      "source": [
        "C.device\n",
        "#donde se ejecuta"
      ],
      "execution_count": null,
      "outputs": []
    },
    {
      "cell_type": "code",
      "metadata": {
        "id": "60CX0Vy7SXwn"
      },
      "source": [
        "torch.cuda.is_available()\n",
        "#se ejecuta en el GPU?\n"
      ],
      "execution_count": null,
      "outputs": []
    },
    {
      "cell_type": "code",
      "metadata": {
        "id": "wRCp4Rz3TR6O"
      },
      "source": [
        "import torch #importamos torch\n",
        "torch.cuda.is_available() #le preguntamos si esta disponible la cpu"
      ],
      "execution_count": null,
      "outputs": []
    },
    {
      "cell_type": "code",
      "metadata": {
        "id": "YQ8pv1TITvei"
      },
      "source": [
        "device = torch.device('cuda' if torch.cuda.is_available() else 'cpu'  )\n",
        "#la ponemos como variable "
      ],
      "execution_count": null,
      "outputs": []
    },
    {
      "cell_type": "code",
      "metadata": {
        "id": "YQx5VUNcUc7i"
      },
      "source": [
        "x = torch.randn(10,10) #cpu\n",
        "y = torch.ones_like(x,  device=device) \n",
        "#creame el tensor en la gpu"
      ],
      "execution_count": null,
      "outputs": []
    },
    {
      "cell_type": "code",
      "metadata": {
        "id": "JJq-RCDYVV25"
      },
      "source": [
        "x = x.to(device)\n",
        "#llevamos la x a la gpu"
      ],
      "execution_count": null,
      "outputs": []
    },
    {
      "cell_type": "code",
      "metadata": {
        "id": "gt2KNo5uVkhv"
      },
      "source": [
        "z = x + y\n",
        "z\n"
      ],
      "execution_count": null,
      "outputs": []
    },
    {
      "cell_type": "code",
      "metadata": {
        "id": "JBaEUiwvVwxw"
      },
      "source": [
        "print(z)\n",
        "# device='cuda:0' que esta es gpu\n"
      ],
      "execution_count": null,
      "outputs": []
    },
    {
      "cell_type": "code",
      "metadata": {
        "id": "lkDJLxO0WCWE"
      },
      "source": [
        "print(z.cpu) #volvio a la cpu"
      ],
      "execution_count": null,
      "outputs": []
    },
    {
      "cell_type": "code",
      "metadata": {
        "id": "1fpfMTd4WQYu"
      },
      "source": [
        "from google.colab import drive \n",
        "#importamos divre de google colab"
      ],
      "execution_count": null,
      "outputs": []
    },
    {
      "cell_type": "code",
      "metadata": {
        "id": "MFK4MtheWWtM"
      },
      "source": [
        "drive.mount('/gdrive') #impotampos la cap gdrive"
      ],
      "execution_count": null,
      "outputs": []
    },
    {
      "cell_type": "code",
      "metadata": {
        "id": "9Gd_WxpeWt5w"
      },
      "source": [
        "from torchvision import datasets\n",
        "#importamos el datasets de torchvisions"
      ],
      "execution_count": null,
      "outputs": []
    },
    {
      "cell_type": "code",
      "metadata": {
        "id": "dXFTu5ZqeS8a"
      },
      "source": [
        "cifrar = datasets.CIFAR10('/gdrive/My Drive/dl-pytorch/datasets', download=True)\n",
        "#descargamos en google colab para que lo vea y puede operar "
      ],
      "execution_count": null,
      "outputs": []
    },
    {
      "cell_type": "code",
      "metadata": {
        "id": "fyZh21Iahz5L"
      },
      "source": [
        "len(cifrar) \n",
        "#vemos su longitud"
      ],
      "execution_count": null,
      "outputs": []
    },
    {
      "cell_type": "code",
      "metadata": {
        "id": "xqaaNityiYp2"
      },
      "source": [
        "data = torch.Tensor(cifrar.data)\n",
        "#pasamos a tensor"
      ],
      "execution_count": null,
      "outputs": []
    },
    {
      "cell_type": "code",
      "metadata": {
        "id": "4Tuqp2DTjRXQ"
      },
      "source": [
        "data.size()\n",
        "#[50000, 32, 32, 3]  tenes 5000 imagenes de 32*32 pix y 3 canales(de colores)"
      ],
      "execution_count": null,
      "outputs": []
    }
  ]
}